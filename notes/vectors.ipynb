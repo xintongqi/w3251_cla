{
  "cells": [
    {
      "cell_type": "markdown",
      "metadata": {
        "id": "VOF3XXJPnEHt"
      },
      "source": [
        "# Primitive data structures\n",
        "\n",
        "It is important to understand the difference between sets and lists.\n",
        "\n",
        "## Sets\n",
        "A set is an *unordered* collection of *distinct* elements."
      ]
    },
    {
      "cell_type": "code",
      "execution_count": 1,
      "metadata": {
        "colab": {
          "base_uri": "https://localhost:8080/"
        },
        "id": "H3Ucrwb1n1kj",
        "outputId": "902d6842-123c-488c-b7f4-29999bebaca0"
      },
      "outputs": [
        {
          "name": "stdout",
          "output_type": "stream",
          "text": [
            "my_set is a <class 'set'>, and its contents are {1, 2, 3}.\n",
            "my_other_set is a <class 'set'>, and its contents are {1, 2, 3}.\n"
          ]
        }
      ],
      "source": [
        "my_set = {1,2,3,2,3}\n",
        "my_other_set = {1,2,3}\n",
        "print('my_set is a {0}, and its contents are {1}.'.format(type(my_set), my_set))\n",
        "print('my_other_set is a {0}, and its contents are {1}.'.format(type(my_other_set), my_other_set))"
      ]
    },
    {
      "cell_type": "markdown",
      "metadata": {
        "id": "yUMThd1IoEHt"
      },
      "source": [
        "Notice that even though we constructed `my_set` with repeats of some elements, the set itself is composed only of the distinct elements."
      ]
    },
    {
      "cell_type": "code",
      "execution_count": 2,
      "metadata": {
        "colab": {
          "base_uri": "https://localhost:8080/"
        },
        "id": "8cqnD5ROpIyD",
        "outputId": "c063e0f6-d0c4-4824-eeeb-41fd34fd53ff"
      },
      "outputs": [
        {
          "name": "stdout",
          "output_type": "stream",
          "text": [
            "True or false: my_set is equal to my_other_set. True.\n"
          ]
        }
      ],
      "source": [
        "print('True or false: my_set is equal to my_other_set. {0}.'.format(my_set == my_other_set))"
      ]
    },
    {
      "cell_type": "markdown",
      "metadata": {
        "id": "RpzM8SOOmAOS"
      },
      "source": [
        "## Lists\n",
        "A list or tuple maps the natural numbers to elements. Python distinguishes lists and tuples, but we won't worry about the difference. An element can appear more than once in the list, since different natural numbers can map to the same element.\n",
        "\n",
        "Note that Python uses '0-indexing', whereas math people (and everyone else) uses '1-indexing'."
      ]
    },
    {
      "cell_type": "code",
      "execution_count": 3,
      "metadata": {
        "colab": {
          "base_uri": "https://localhost:8080/"
        },
        "id": "V9k2ZRL_mPJm",
        "outputId": "a640adfb-76fb-43d0-c635-b4ee416472e8"
      },
      "outputs": [
        {
          "name": "stdout",
          "output_type": "stream",
          "text": [
            "my_list is a <class 'list'>, and its contents are [1, 2, 3, 2, 3]. Its fourth element is 2.\n",
            "my_tuple is a <class 'tuple'>, and its contents are (1, 2, 3, 2, 3). Its fourth element is 2.\n"
          ]
        }
      ],
      "source": [
        "my_list = [1,2,3,2,3]\n",
        "my_tuple = (1,2,3,2,3)\n",
        "print('my_list is a {0}, and its contents are {1}. Its fourth element is {2}.'.format(type(my_list), my_list, my_list[3]))\n",
        "print('my_tuple is a {0}, and its contents are {1}. Its fourth element is {2}.'.format(type(my_tuple), my_tuple, my_tuple[3]))"
      ]
    },
    {
      "cell_type": "markdown",
      "metadata": {
        "id": "TAkXPB_C-a2b"
      },
      "source": [
        "# Vectors\n",
        "\n",
        "We will use 1D arrays from NumPy to implement $n$-vectors."
      ]
    },
    {
      "cell_type": "code",
      "execution_count": 4,
      "metadata": {
        "colab": {
          "base_uri": "https://localhost:8080/"
        },
        "id": "0mMZzQOiBo_R",
        "outputId": "778d95e5-22fe-4b93-9cec-f13bd3dd2538"
      },
      "outputs": [
        {
          "name": "stdout",
          "output_type": "stream",
          "text": [
            "v is a <class 'numpy.ndarray'>; it represents a 3-vector, and its contents are [1 2 3].\n",
            "w is a <class 'numpy.ndarray'>; it represents a 3-vector, and its contents are [3 2 1].\n"
          ]
        }
      ],
      "source": [
        "# standard import statement for the numpy library\n",
        "# you should run this line every time you open a Colab notebook\n",
        "import numpy as np\n",
        "\n",
        "# call the array() function to define and return a numpy array\n",
        "v = np.array([1,2,3])   # argument may be a Python list\n",
        "w = np.array((3,2,1))   # argument may also be a tuple\n",
        "\n",
        "print(\"v is a {0}; it represents a {1}-vector, and its contents are {2}.\".format(type(v), v.size, v))\n",
        "print(\"w is a {0}; it represents a {1}-vector, and its contents are {2}.\".format(type(w), w.size, w))"
      ]
    },
    {
      "cell_type": "markdown",
      "metadata": {
        "id": "V6VGCYkjs-BF"
      },
      "source": [
        "Sadly, NumPy prints $n$-vectors in a somewhat weird way -- this is truly a real shame. Remember, we really prefer to write $n$-vectors in column format,\n",
        "$$ \\mathbf v = \\begin{bmatrix} 1 \\\\ 2 \\\\ 3 \\end{bmatrix}, \\quad \n",
        "\\mathbf w = \\begin{bmatrix} 3 \\\\ 2 \\\\ 1 \\end{bmatrix} , $$\n",
        "or in list format,\n",
        "$$ \\mathbf v = (1,2,3) , \\quad \\mathbf w = (3,2,1) . $$"
      ]
    },
    {
      "cell_type": "markdown",
      "metadata": {
        "id": "t2TmQcZ8BbIv"
      },
      "source": [
        "## Indexing\n",
        "\n",
        "We *index* vectors to access individual components, e.g.,  $\\mathbf v = (v_1,v_2,v_3)$. But remember, Python uses '0-indexing'."
      ]
    },
    {
      "cell_type": "code",
      "execution_count": 5,
      "metadata": {
        "colab": {
          "base_uri": "https://localhost:8080/"
        },
        "id": "0RwKNoGrCls3",
        "outputId": "fcdd04b1-e95b-44ef-a6ff-36ca37c5b095"
      },
      "outputs": [
        {
          "name": "stdout",
          "output_type": "stream",
          "text": [
            "v_1 = 1, v_2 = 2, v_3 = 3.\n",
            "w_1 = 3, w_2 = 2, w_3 = 1.\n",
            "last element of v is 3.\n",
            "second-to-last element of w is 2.\n"
          ]
        }
      ],
      "source": [
        "print(\"v_1 = {0}, v_2 = {1}, v_3 = {2}.\".format(v[0], v[1], v[2]))\n",
        "print(\"w_1 = {0}, w_2 = {1}, w_3 = {2}.\".format(w[0], w[1], w[2]))\n",
        "print(\"last element of v is {0}.\".format(v[-1]))  # negative indices are used to start indexing from the end; we won't use this outside of Python!\n",
        "print(\"second-to-last element of w is {0}.\".format(w[-2]))"
      ]
    },
    {
      "cell_type": "markdown",
      "metadata": {
        "id": "8WytOxhGSi9p"
      },
      "source": [
        "More than just individual components, NumPy is able to extract multiple components of a vector at once using creative indexing. For example, we can input a list of indices instead of a single index inside the brackets."
      ]
    },
    {
      "cell_type": "code",
      "execution_count": 6,
      "metadata": {
        "colab": {
          "base_uri": "https://localhost:8080/"
        },
        "id": "cO0J8PRnTDxa",
        "outputId": "faa31c77-1c18-45eb-8421-ecd8f4582330"
      },
      "outputs": [
        {
          "name": "stdout",
          "output_type": "stream",
          "text": [
            "w = [ 1  4 -5  2 -7  8].\n",
            "[w_1, w_3, w_6] = [ 1 -5  8].\n"
          ]
        }
      ],
      "source": [
        "w = np.array([1,4,-5,2,-7,8])\n",
        "print(\"w = {0}.\".format(w))\n",
        "print(\"[w_1, w_3, w_6] = {0}.\".format(w[[0,2,5]]))"
      ]
    },
    {
      "cell_type": "markdown",
      "metadata": {
        "id": "s0n64UEtTXtS"
      },
      "source": [
        "## Slicing and striding (NumPy only)\n",
        "NumPy allows one to select multiple components of an `ndarray` using the `:` (colon) operator. This is called [slicing and striding](https://numpy.org/doc/stable/user/basics.indexing.html#slicing-and-striding) in NumPy."
      ]
    },
    {
      "cell_type": "code",
      "execution_count": 7,
      "metadata": {
        "colab": {
          "base_uri": "https://localhost:8080/"
        },
        "id": "Q8pcjmP-TgaP",
        "outputId": "2b2538c9-839b-4abc-ef39-667fe8a9d4d8"
      },
      "outputs": [
        {
          "name": "stdout",
          "output_type": "stream",
          "text": [
            "components of w between the 2nd element and (but not including) the 5th element: [ 4 -5  2]\n",
            "components of w up to (but not including) the 5th element: [ 1  4 -5  2]\n",
            "components of w starting with the 4th element: [ 2 -7  8]\n",
            "every 2 components of w between the 2nd element and (but not including) the 5th element: [4 2]\n",
            "every 2 components of w up to (but not including) the 5th element: [ 1 -5]\n",
            "every 3 components of w starting with the 4th element: [2]\n"
          ]
        }
      ],
      "source": [
        "print(\"components of w between the 2nd element and (but not including) the 5th element: {0}\".format(w[1:4]))\n",
        "print(\"components of w up to (but not including) the 5th element: {0}\".format(w[:4])) # starting index defaults to 0 if not given\n",
        "print(\"components of w starting with the 4th element: {0}\".format(w[3:])) # ending index defaults to *one after the last* if not given\n",
        "\n",
        "print(\"every 2 components of w between the 2nd element and (but not including) the 5th element: {0}\".format(w[1:4:2]))\n",
        "print(\"every 2 components of w up to (but not including) the 5th element: {0}\".format(w[:4:2]))\n",
        "print(\"every 3 components of w starting with the 4th element:\", w[3::3])"
      ]
    },
    {
      "cell_type": "markdown",
      "metadata": {
        "id": "AmTXRfD2WicF"
      },
      "source": [
        "## Manipulation (NumPy only)\n",
        "\n",
        "NumPy arrays are *mutable*, which means they can be modified after they are defined. For example, we can change array entries using indexing. Simply place the part of the array you want to change on the LHS of an equals sign, and place the new values on the RHS. The sizes on either side must be the same, with the exception that if the RHS is a scalar, the same value is applied to all entries on the LHS."
      ]
    },
    {
      "cell_type": "code",
      "execution_count": 8,
      "metadata": {
        "colab": {
          "base_uri": "https://localhost:8080/"
        },
        "id": "xS0To8dUYw9t",
        "outputId": "7366f4ca-e9f5-45ec-f00b-e3a3257e9293"
      },
      "outputs": [
        {
          "name": "stdout",
          "output_type": "stream",
          "text": [
            "[ 0 -1 -2 -1 -4 -1]\n"
          ]
        }
      ],
      "source": [
        "w[0] = 0            # set 1st element to 0\n",
        "w[[2,4]] = [-2,-4]  # set 3rd and 5th elements to -2 and -4\n",
        "w[1::2] = -1        # set every 2 elements starting from the 2nd element to -1\n",
        "print(w)"
      ]
    },
    {
      "cell_type": "markdown",
      "metadata": {
        "id": "leIr7_ogZxFn"
      },
      "source": [
        "NumPy also allows you to add or delete entries from an array, or concatenate two arrays together. There are a number of different [functions](https://numpy.org/doc/stable/reference/routines.array-manipulation.html) that allow you to do this. We'll show the most commonly used ones for 1D arrays (vectors) and revisit some of these when discuss 2D arrays (matrices).\n",
        "\n",
        "**These functions do not change the original np array but rather return a new array.**"
      ]
    },
    {
      "cell_type": "code",
      "execution_count": 9,
      "metadata": {
        "colab": {
          "base_uri": "https://localhost:8080/"
        },
        "id": "fUqmTgAXaHr-",
        "outputId": "342d03ed-549e-44b3-80b1-57eec2ec1f16"
      },
      "outputs": [
        {
          "name": "stdout",
          "output_type": "stream",
          "text": [
            "[ 1  2  3 10]\n",
            "[ 1  2  3 10 11]\n",
            "[ 1 -1  2  3]\n",
            "[1 3]\n"
          ]
        }
      ],
      "source": [
        "print(np.append(v, 10))       # append 10 to the end of v\n",
        "print(np.append(v, [10,11]))  # append the array [10,11] to v (still returns one array)\n",
        "print(np.insert(v, 1, -1))    # insert -1 into the 1 component of v\n",
        "print(np.delete(v, 1))        # delete entry in the 1 component of v"
      ]
    },
    {
      "cell_type": "markdown",
      "metadata": {
        "id": "NbCuSU_v9vz-"
      },
      "source": [
        "## Special Vectors\n",
        "\n",
        "Certain vectors appear often in different contexts that it is useful to give them a name and a special way to define them in NumPy. For example, the **zero vector** is a $n$-vector of all 0s, denoted $\\mathbf 0_n$ or just $\\mathbf 0$. The **ones vector** is a $n$-vector of all 1s, denoted $\\mathbf 1_n$ or just $\\mathbf 1$. (Apologies are in order: subscripts are being used here in yet another way.)\n",
        "\n",
        "For many programming tasks, we may have to generate a vector of evenly spaced  values within a certain interval. This may be accomplished using `numpy.arange` or `numpy.linspace`.\n",
        "\n",
        "*`arange` means evenly spaced values within a given interval. When using a non-integer interval, the results will often not be consistent. Better to use `linspace` for these cases.*"
      ]
    },
    {
      "cell_type": "code",
      "execution_count": 10,
      "metadata": {
        "colab": {
          "base_uri": "https://localhost:8080/"
        },
        "id": "SZvQUYrz_AQP",
        "outputId": "2da9b036-2098-445b-a92a-dd827755e190"
      },
      "outputs": [
        {
          "name": "stdout",
          "output_type": "stream",
          "text": [
            "A 3-vector of all zeros: [0. 0. 0.]\n",
            "A 5-vector of all ones: [1. 1. 1. 1. 1.]\n",
            "[0 1 2 3 4 5 6 7]\n",
            "[3 4 5 6 7]\n",
            "[3 5 7]\n",
            "[3.         3.10204082 3.20408163 3.30612245 3.40816327 3.51020408\n",
            " 3.6122449  3.71428571 3.81632653 3.91836735 4.02040816 4.12244898\n",
            " 4.2244898  4.32653061 4.42857143 4.53061224 4.63265306 4.73469388\n",
            " 4.83673469 4.93877551 5.04081633 5.14285714 5.24489796 5.34693878\n",
            " 5.44897959 5.55102041 5.65306122 5.75510204 5.85714286 5.95918367\n",
            " 6.06122449 6.16326531 6.26530612 6.36734694 6.46938776 6.57142857\n",
            " 6.67346939 6.7755102  6.87755102 6.97959184 7.08163265 7.18367347\n",
            " 7.28571429 7.3877551  7.48979592 7.59183673 7.69387755 7.79591837\n",
            " 7.89795918 8.        ]\n",
            "[3.         3.55555556 4.11111111 4.66666667 5.22222222 5.77777778\n",
            " 6.33333333 6.88888889 7.44444444 8.        ]\n"
          ]
        }
      ],
      "source": [
        "print(\"A 3-vector of all zeros:\", np.zeros(3))\n",
        "print(\"A 5-vector of all ones:\", np.ones(5))\n",
        "\n",
        "print(np.arange(8))         # arange with 1 argument: values 0 to 8 with interval 1\n",
        "print(np.arange(3,8))       # arange with 2 arguments: values 3 to 8 with interval 1\n",
        "print(np.arange(3,8,2))     # arange with 3 arguments: values 3 to 8 with interval 2\n",
        "print(np.linspace(3,8))     # linspace with 2 arguments: 50 (default) values from 3 to 8\n",
        "print(np.linspace(3,8,10))  # linspace with 3 arguments: 10 values from 3 to 8"
      ]
    },
    {
      "cell_type": "markdown",
      "metadata": {
        "id": "RJZt5xCMGimp"
      },
      "source": [
        "## Visualizing Vectors\n",
        "\n",
        "Vectors of arbitrary dimension can be defined easily by just writing down a list with many elements. We can also visualize 2-vectors and 3-vectors as points or arrows in 2D and 3D space (but no higher). A vector's elements define the coordinates of a point in the standard coordinate system, so we can equate that point with the vector itself.\n",
        "\n",
        "Thinking of a vector as an arrow, we can place the *tail* of the arrow at the origin and the *head* of the arrow at the coordinates specified by the vector elements.\n",
        "\n",
        "Note that we can also move a vector so that its tail shifted away from the origin.\n",
        "\n",
        "*`plt.arrow(x,y,dx,dy)` x and y are the arrow base, dx and dy are the displacements. other arguments are optional for styling purposes.*"
      ]
    },
    {
      "cell_type": "code",
      "execution_count": 11,
      "metadata": {
        "colab": {
          "base_uri": "https://localhost:8080/",
          "height": 269
        },
        "id": "tnBNQtfqJDpX",
        "outputId": "b77f45f4-e064-41b2-8579-aac9ab73726a"
      },
      "outputs": [
        {
          "data": {
            "image/png": "[encoded data removed]",
            "text/plain": [
              "<Figure size 432x288 with 1 Axes>"
            ]
          },
          "metadata": {
            "needs_background": "light"
          },
          "output_type": "display_data"
        }
      ],
      "source": [
        "# library that you will often use for plotting objects\n",
        "import matplotlib.pyplot as plt\n",
        "\n",
        "a = np.array([2,1])\n",
        "plt.arrow(0, 0, a[0], a[1], head_width=.1, length_includes_head=True)  # plotting a as an arrow from the origin\n",
        "plt.arrow(1, -1, a[0], a[1], head_width=.1, length_includes_head=True) # same vector, but from (1,-1)\n",
        "plt.arrow(0,0,a[0], a[1], head_width=.1, width=0.05, color=\"r\", length_includes_head=True, head_starts_at_zero=True)\n",
        "plt.arrow(0,0,a[0], a[1], head_width=.1, width=0.05, color=\"b\", length_includes_head=True)\n",
        "plt.axis([-0.5,3.5,-1.5,1.5])\n",
        "plt.grid()"
      ]
    },
    {
      "cell_type": "markdown",
      "metadata": {
        "id": "gmLGhhL7G9Of"
      },
      "source": [
        "## Vector Operations\n",
        "\n",
        "Just as we can perform operations on scalars, we can also perform certain operations on vectors."
      ]
    },
    {
      "cell_type": "markdown",
      "metadata": {
        "id": "G9E86lgfKBOC"
      },
      "source": [
        "### Vector scaling\n",
        "\n",
        "Scaling a vector by a scalar $\\alpha$ means multiplying each element of the vector by $\\alpha$. This results in a new vector:\n",
        "\n",
        "$$ \\alpha \\mathbf v = (\\alpha v_1, \\ldots, \\alpha v_n) $$\n",
        "\n",
        "Another way to think about this operation is that we are simply changing the magnitude of $\\mathbf v$ by stretching or compressing it. If $|\\alpha| > 1$, $\\mathbf v$ is stretched; if $|\\alpha| < 1$, $\\mathbf v$ is compressed. If $\\alpha < 0$, the direction of $\\mathbf v$ is flipped. Any of these cases can be visualized in 2-vectors and 3-vectors."
      ]
    },
    {
      "cell_type": "code",
      "execution_count": 12,
      "metadata": {
        "colab": {
          "base_uri": "https://localhost:8080/",
          "height": 269
        },
        "id": "fvLJcfU7D47F",
        "outputId": "19a0e24e-48e9-45d4-ef8f-1abf0c50c9f9"
      },
      "outputs": [
        {
          "data": {
            "image/png": "[encoded data removed]",
            "text/plain": [
              "<Figure size 432x288 with 1 Axes>"
            ]
          },
          "metadata": {
            "needs_background": "light"
          },
          "output_type": "display_data"
        }
      ],
      "source": [
        "a = np.array([2,1])\n",
        "b = 1.5*a\n",
        "c = -0.5*a\n",
        "\n",
        "plt.arrow(0, 0, b[0], b[1], head_width=.3, width=0.15, color=\"b\", length_includes_head=True) \n",
        "plt.arrow(0, 0, a[0], a[1], head_width=.1, width=0.05, color=\"r\", length_includes_head=True)  \n",
        "plt.arrow(0, 0, c[0], c[1], head_width=.1, width=0.05, color=\"k\", length_includes_head=True) \n",
        "plt.axis([-1.5,4.5,-1,2.5])\n",
        "plt.grid()"
      ]
    },
    {
      "cell_type": "markdown",
      "metadata": {
        "id": "ELtpJ2rsLQLq"
      },
      "source": [
        "### Vector addition\n",
        "\n",
        "*Vector addition* can be applied to two or more given vectors of the same dimension. The sum of two vectors is the sum of each of the vectors' corresponding elements, which is a new vector of the same size:\n",
        "\n",
        "$$\\mathbf v + \\mathbf w = (v_1+w_1, \\ldots, v_n+w_n)$$\n",
        "\n",
        "To visualize this in 2 and 3 dimensions, you can imagine taking the tail of the vector $\\mathbf w$ and moving it so that it is coincident with the head of $\\mathbf v$. The sum is the new vector whose tail is coincident with the tail of $\\mathbf v$ and whose head is coincident with the head of $\\mathbf w$."
      ]
    },
    {
      "cell_type": "code",
      "execution_count": 13,
      "metadata": {
        "colab": {
          "base_uri": "https://localhost:8080/",
          "height": 269
        },
        "id": "Ms61gQW4EZii",
        "outputId": "0a135f65-e78a-4255-e280-567ff357c480"
      },
      "outputs": [
        {
          "data": {
            "image/png": "[encoded data removed]",
            "text/plain": [
              "<Figure size 432x288 with 1 Axes>"
            ]
          },
          "metadata": {
            "needs_background": "light"
          },
          "output_type": "display_data"
        }
      ],
      "source": [
        "a = np.array([2,1])\n",
        "b = np.array([-1,2])\n",
        "c = a + b\n",
        "\n",
        "plt.arrow(0, 0, a[0], a[1], head_width=.1, length_includes_head=True)\n",
        "plt.arrow(a[0], a[1], b[0], b[1], head_width=.1, length_includes_head=True)\n",
        "plt.arrow(0, 0, c[0], c[1], head_width=.1, length_includes_head=True)  \n",
        "plt.axis([-0.5,2.5,-0.5,3.5])\n",
        "plt.grid()"
      ]
    },
    {
      "cell_type": "markdown",
      "metadata": {
        "id": "Y1hxzq8tuXKH"
      },
      "source": [
        "# Linear combinations and spans\n",
        "\n",
        "The function `in_span` can be used to check whether a given vector is in the span of other given vectors. This function is implemented using another library (SymPy), but it can be used with NumPy vectors. Don't worry about understanding the implementation until we cover the Gauss-Jordan method."
      ]
    },
    {
      "cell_type": "code",
      "execution_count": 14,
      "metadata": {
        "id": "SxUXiplUuWfr"
      },
      "outputs": [],
      "source": [
        "import numpy as np\n",
        "import sympy\n",
        "\n",
        "def in_span(b, *vectors):\n",
        "  '''\n",
        "  Checks for membership in a span.\n",
        "\n",
        "  Parameters:\n",
        "  b : 1D array\n",
        "    vector b\n",
        "  *vectors : 1D arrays\n",
        "    vectors v1, v2, ...\n",
        "\n",
        "  Returns:\n",
        "  t : bool\n",
        "    membership status of b in span of {v1, v2, ...}\n",
        "  x : ndarray or NoneType\n",
        "    if t is True, then x is 1D array of coefficients that witnesses the membership\n",
        "    if t is False, then x is None\n",
        "  '''\n",
        "  try:\n",
        "    sol, params = sympy.Matrix(vectors).T.gauss_jordan_solve(sympy.Matrix(b))\n",
        "  except ValueError:\n",
        "    return (False, None)\n",
        "  return (True, np.array(sol.xreplace({ f:0 for f in params })).astype(np.float64))"
      ]
    },
    {
      "cell_type": "code",
      "execution_count": 15,
      "metadata": {
        "colab": {
          "base_uri": "https://localhost:8080/"
        },
        "id": "brsxA6lOulV2",
        "outputId": "b28015ec-e678-47b4-b95c-17ff3c61eccf"
      },
      "outputs": [
        {
          "name": "stdout",
          "output_type": "stream",
          "text": [
            "[[-2.]\n",
            " [ 2.]]\n"
          ]
        }
      ],
      "source": [
        "(t, x) = in_span([4,4,4], [1,2,3], [3,4,5])     # is (4,4,4) in the span of { (1,2,3), (3,4,5) }?\n",
        "if t:\n",
        "  print(x)\n",
        "else:\n",
        "  print(\"Not in span\")"
      ]
    },
    {
      "cell_type": "code",
      "execution_count": 16,
      "metadata": {
        "colab": {
          "base_uri": "https://localhost:8080/"
        },
        "id": "D5l2x57svI_O",
        "outputId": "4801852a-d094-4b8c-c160-af6c797a9755"
      },
      "outputs": [
        {
          "name": "stdout",
          "output_type": "stream",
          "text": [
            "Not in span\n"
          ]
        }
      ],
      "source": [
        "(t, x) = in_span([2,2,1], [1,2,3], [3,4,5])     # is (2,2,1) in the span of { (1,2,3), (3,4,5) }?\n",
        "if t:\n",
        "  print(x)\n",
        "else:\n",
        "  print(\"Not in span\")"
      ]
    },
    {
      "cell_type": "code",
      "execution_count": 17,
      "metadata": {
        "id": "XBHwAKVhqlvK"
      },
      "outputs": [
        {
          "name": "stdout",
          "output_type": "stream",
          "text": [
            "Not in span\n"
          ]
        }
      ],
      "source": [
        "(t, x) = in_span([3,5,-2], [1,0,-1], [0,1,1])\n",
        "if t:\n",
        "  print(x)\n",
        "else:\n",
        "  print(\"Not in span\")"
      ]
    },
    {
      "cell_type": "code",
      "execution_count": 18,
      "metadata": {},
      "outputs": [
        {
          "name": "stdout",
          "output_type": "stream",
          "text": [
            "[[-11.]\n",
            " [ 11.]\n",
            " [  3.]\n",
            " [  0.]\n",
            " [ -7.]]\n"
          ]
        }
      ],
      "source": [
        "(t, x) = in_span([3,3,1,4],[0,1,0,1], [0,1,2,2], [1,1,0,0], [1,1,0,0],[0,0,3,1])\n",
        "if t:\n",
        "  print(x)\n",
        "else:\n",
        "  print(\"Not in span\")"
      ]
    },
    {
      "cell_type": "code",
      "execution_count": 20,
      "metadata": {},
      "outputs": [
        {
          "name": "stdout",
          "output_type": "stream",
          "text": [
            "[[2.]\n",
            " [0.]]\n"
          ]
        }
      ],
      "source": [
        "(t, x) = in_span([2,4,6], [1,2,3], [3,4,5])\n",
        "if t:\n",
        "  print(x)\n",
        "else:\n",
        "  print(\"Not in span\")"
      ]
    },
    {
      "cell_type": "code",
      "execution_count": 24,
      "metadata": {},
      "outputs": [
        {
          "name": "stdout",
          "output_type": "stream",
          "text": [
            "Not in span\n"
          ]
        }
      ],
      "source": [
        "(t, x) = in_span([0,0,1], [1,2,3], [3,4,5])\n",
        "if t:\n",
        "  print(x)\n",
        "else:\n",
        "  print(\"Not in span\")"
      ]
    },
    {
      "cell_type": "code",
      "execution_count": 27,
      "metadata": {},
      "outputs": [
        {
          "name": "stdout",
          "output_type": "stream",
          "text": [
            "Not in span\n"
          ]
        }
      ],
      "source": [
        "(t, x) = in_span([0,1], [1,2,3], [3,4,5])\n",
        "if t:\n",
        "  print(x)\n",
        "else:\n",
        "  print(\"Not in span\")"
      ]
    },
    {
      "cell_type": "code",
      "execution_count": 25,
      "metadata": {},
      "outputs": [
        {
          "name": "stdout",
          "output_type": "stream",
          "text": [
            "Not in span\n"
          ]
        }
      ],
      "source": [
        "(t, x) = in_span([1,2,3], [3,4,5])\n",
        "if t:\n",
        "  print(x)\n",
        "else:\n",
        "  print(\"Not in span\")"
      ]
    },
    {
      "cell_type": "code",
      "execution_count": 26,
      "metadata": {},
      "outputs": [
        {
          "name": "stdout",
          "output_type": "stream",
          "text": [
            "[[0.]]\n"
          ]
        }
      ],
      "source": [
        "(t, x) = in_span([0,0,0], [1,2,3])\n",
        "if t:\n",
        "  print(x)\n",
        "else:\n",
        "  print(\"Not in span\")"
      ]
    },
    {
      "cell_type": "code",
      "execution_count": 19,
      "metadata": {},
      "outputs": [
        {
          "data": {
            "text/latex": [
              "$\\displaystyle \\left[\\begin{matrix}3\\\\3\\\\1\\\\4\\end{matrix}\\right]$"
            ],
            "text/plain": [
              "Matrix([\n",
              "[3],\n",
              "[3],\n",
              "[1],\n",
              "[4]])"
            ]
          },
          "execution_count": 19,
          "metadata": {},
          "output_type": "execute_result"
        }
      ],
      "source": [
        "# sol, param = sympy.Matrix([7,13,6,6,7]).T.gauss_jordan_solve(sympy.Matrix([0,1,0,1], [0,1,2,2], [1,1,0,0], [1,1,0,0],[0,0,3,1]))\n",
        "# sol, param = sympy.Matrix([0,1,0,1], [0,1,2,2], [1,1,0,0], [1,1,0,0],[0,0,3,1]).gauss_jordan_solve(sympy.Matrix([7,13,6,6,7]))\n",
        "# sol\n",
        "\n",
        "from sympy import Matrix\n",
        "A = Matrix([[0,1,0,1], [0,1,2,2], [1,1,0,0], [1,1,0,0],[0,0,3,1]])\n",
        "B = Matrix([7,13,6,6,7])\n",
        "sol, params = A.gauss_jordan_solve(B)\n",
        "sol"
      ]
    }
  ],
  "metadata": {
    "colab": {
      "collapsed_sections": [],
      "provenance": []
    },
    "kernelspec": {
      "display_name": "Python 3.9.7 ('base')",
      "language": "python",
      "name": "python3"
    },
    "language_info": {
      "codemirror_mode": {
        "name": "ipython",
        "version": 3
      },
      "file_extension": ".py",
      "mimetype": "text/x-python",
      "name": "python",
      "nbconvert_exporter": "python",
      "pygments_lexer": "ipython3",
      "version": "3.9.7"
    },
    "vscode": {
      "interpreter": {
        "hash": "2cee90cb42f7178e5dd22b7456409da18ea1759979d58fe6e9e7c588d39f7288"
      }
    }
  },
  "nbformat": 4,
  "nbformat_minor": 0
}
