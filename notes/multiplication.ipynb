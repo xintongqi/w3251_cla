{
  "cells": [
    {
      "cell_type": "markdown",
      "metadata": {
        "id": "lbJgt1MQFoH-"
      },
      "source": [
        "# Matrices\n",
        "\n",
        "A **matrix** $A$ is a table of scalars. You can think of a matrix as a bunch of column vectors of the same size stacked next to each other (preferred for now), or a bunch of row vectors stacked on top of each other (for later). For example:\n",
        "\n",
        "$$ A = \\begin{bmatrix} 1 & 2 & 3 \\\\ 4 & 5 & 6 \\end{bmatrix} $$ \n",
        "\n",
        "The **shape** of a matrix refers to the number of rows and columns. If $A$ has $m$ rows and $n$ columns, we say that it is an $m \\times n$ matrix (\"$m$ by $n$\").\n",
        "\n",
        "We use 2D arrays in NumPy to implement matrices. Unfortunately, in NumPy, a 2D array is implemented as a stack of rows, rather than a list of columns.\n",
        "\n",
        "**IMPORTANT**: a 1D array in NumPy is *not the same* as a 2D array in NumPy that only has one column."
      ]
    },
    {
      "cell_type": "code",
      "execution_count": 1,
      "metadata": {
        "colab": {
          "base_uri": "https://localhost:8080/"
        },
        "id": "DKPSzeS5LKDD",
        "outputId": "ebb18c38-784f-42ed-d1c8-7af2b11dbefc"
      },
      "outputs": [
        {
          "name": "stdout",
          "output_type": "stream",
          "text": [
            "The matrix A:\n",
            " [[1 2 3]\n",
            " [4 5 6]]\n",
            "The shape of A: (2, 3)\n",
            "1D array: [7 8 9] with shape (3,)\n",
            "2D array with one row:  [[7 8 9]] with shape (1, 3)\n",
            "2D array with one column:\n",
            " [[7]\n",
            " [8]\n",
            " [9]]\n",
            "with shape (3, 1)\n"
          ]
        }
      ],
      "source": [
        "import numpy as np # don't forget this\n",
        "\n",
        "# matrices are represented as 2D arrays in numpy\n",
        "# defined in the same manner as 1D arrays, but using double-nested lists\n",
        "A = np.array([[1,2,3],\n",
        "              [4,5,6]])\n",
        "print(\"The matrix A:\\n\", A)\n",
        "print(\"The shape of A:\", A.shape)\n",
        "\n",
        "v = np.array([7,8,9])\n",
        "my_row = np.array([[7,8,9]])\n",
        "my_column = my_row.T  # 'transpose': a convenient way to turn rows to columns, and columns to rows\n",
        "\n",
        "print(\"1D array:\", v, \"with shape\", v.shape)\n",
        "print(\"2D array with one row: \", my_row, \"with shape\", my_row.shape)\n",
        "print(\"2D array with one column:\\n\", my_column)\n",
        "print(\"with shape\", my_column.shape)\n"
      ]
    },
    {
      "cell_type": "markdown",
      "metadata": {
        "id": "apunP9FLKrkF"
      },
      "source": [
        "## Notation and Indexing\n",
        "\n",
        "We usually use upper-case letters as variable names for matrices. Two subscripts are used to *index* the components of a matrix. The first refers to the row, and the second refers to the column. From the matrix $A$ defined above, $A_{1,1} = 1$ and $A_{2,3} = 6$.\n",
        "\n",
        "(Don't forget that Python uses 0-indexing.)"
      ]
    },
    {
      "cell_type": "code",
      "execution_count": 2,
      "metadata": {
        "colab": {
          "base_uri": "https://localhost:8080/"
        },
        "id": "TewxdZ05L7X-",
        "outputId": "2d1cd50b-d798-4ec2-f1ed-9cce3d41191d"
      },
      "outputs": [
        {
          "name": "stdout",
          "output_type": "stream",
          "text": [
            "Component of A in first row and first column = 1\n",
            "Component of A in second row and third column = 6\n"
          ]
        }
      ],
      "source": [
        "print(\"Component of A in first row and first column =\", A[0,0])   # again use brackets, but with two indices\n",
        "print(\"Component of A in second row and third column =\", A[1][2])  # or use two sets of brackets, one for each index"
      ]
    },
    {
      "cell_type": "markdown",
      "metadata": {
        "id": "h1EgotlaVcZJ"
      },
      "source": [
        "## Indexing rows and columns (NumPy)\n",
        "\n",
        "NumPy allows one to select a particular row or column of a matrix.\n",
        "\n",
        "A single `:` indicates the extraction of the *entire* row or column. It may look complicated, but just keep in mind that you are separately indexing the rows and then from those, the columns."
      ]
    },
    {
      "cell_type": "code",
      "execution_count": 3,
      "metadata": {
        "colab": {
          "base_uri": "https://localhost:8080/"
        },
        "id": "fUkjYlYMVPIC",
        "outputId": "e9f7e051-d5a3-4cbb-c098-661a3ff0bbfd"
      },
      "outputs": [
        {
          "name": "stdout",
          "output_type": "stream",
          "text": [
            "First row of A:  [1 2 3]\n",
            "Second row of A:  [4 5 6]\n",
            "Third column of A:  [3 6]\n"
          ]
        }
      ],
      "source": [
        "print(\"First row of A: \", A[0])    # indexing a matrix with a single number returns a row\n",
        "print(\"Second row of A: \", A[1,:])  # it is clearer if you also include a : in the second index\n",
        "print(\"Third column of A: \", A[:,2])\n"
      ]
    },
    {
      "cell_type": "code",
      "execution_count": 4,
      "metadata": {
        "colab": {
          "base_uri": "https://localhost:8080/"
        },
        "id": "ZygVjpD9V70i",
        "outputId": "f82d662d-6ae4-40dc-c032-739dee868162"
      },
      "outputs": [
        {
          "name": "stdout",
          "output_type": "stream",
          "text": [
            "[[1 2]\n",
            " [4 5]]\n",
            "[4 6]\n",
            "[5 6]\n"
          ]
        }
      ],
      "source": [
        "print(A[:,0:2])   # columns between first and (but not including) third column\n",
        "print(A[1,0::2])  # second row, every 2 columns starting from first column\n",
        "print(A[-1,1:])   # last row, all columns starting with the second"
      ]
    },
    {
      "cell_type": "markdown",
      "metadata": {
        "id": "RF704cCAbD_K"
      },
      "source": [
        "## Manipulation (NumPy)\n",
        "\n",
        "As with vectors, matrices can be manipulated by changing their entries, adding new rows or columns, or deleting existing rows or columns. Changing entries is straightforward and works in the same way as vectors. Use indexing to specify which entries you want to change and place that on the LHS of an equals sign, and place the actual values you want on the RHS.\n",
        "\n",
        "The same functions we showed for vectors work for matrices, but we have to be careful in making sure that the dimensions match up. For example, adding a row only works if it is the same size as the number of columns in the matrix. (Again, the one exception is if you add a scalar, where NumPy automatically fills out the correctly sized row or column with the same value.) The `axis` parameter can be used to specify whether we are manipulating a matrix's rows or columns."
      ]
    },
    {
      "cell_type": "code",
      "execution_count": 5,
      "metadata": {
        "colab": {
          "base_uri": "https://localhost:8080/"
        },
        "id": "sx8DrPRYdOKY",
        "outputId": "e6cd101c-817f-41c7-a594-4fbc4cc0a117"
      },
      "outputs": [
        {
          "name": "stdout",
          "output_type": "stream",
          "text": [
            "[[ 0 -2 -3]\n",
            " [ 4 -5 -6]]\n",
            "[[ 6  7  8]\n",
            " [ 0 -2 -3]\n",
            " [ 4 -5 -6]]\n",
            "[[ 0 -2 10 -3]\n",
            " [ 4 -5 10 -6]]\n",
            "[[ 0 -3]\n",
            " [ 4 -6]]\n"
          ]
        }
      ],
      "source": [
        "A[0,0] = 0                              # set A[0,0] to 0\n",
        "A[:,1:] = np.array([[-2,-3], [-5,-6]])  # change columns start with the second column\n",
        "print(A)\n",
        "\n",
        "print(np.insert(A, 0, [6,7,8], axis=0)) # a new matrix starting from A where we insert new first row\n",
        "print(np.insert(A, 2, 10, axis=1))      # a new matrix starting from A where we insert new third column, with all components equal to 10\n",
        "print(np.delete(A, 1, axis=1))          # a new matrix starting from A where we delete second column"
      ]
    },
    {
      "cell_type": "markdown",
      "metadata": {
        "id": "-7zFgFDzjQaD"
      },
      "source": [
        "When we have multiple arrays, we can stack them together either row-wise or column-wise. Again, there are multiple functions for doing this. The ones shown here will generally be versatile enough, and you can use others as well. Again, the main thing to keep in mind is to make sure that the dimensions match up. Some functions will accept 1D arrays as arguments as well."
      ]
    },
    {
      "cell_type": "code",
      "execution_count": 6,
      "metadata": {
        "colab": {
          "base_uri": "https://localhost:8080/"
        },
        "id": "6nqa2htti3mM",
        "outputId": "94ab8b84-fde4-4bd4-80c3-69c3275b7a1e"
      },
      "outputs": [
        {
          "name": "stdout",
          "output_type": "stream",
          "text": [
            "[[1 2 5 6]\n",
            " [3 4 7 8]]\n",
            "[[1 2]\n",
            " [3 4]\n",
            " [5 6]\n",
            " [7 8]]\n",
            "[[ 1  2]\n",
            " [ 3  4]\n",
            " [ 9 10]]\n",
            "[[ 1  2  5  6  9]\n",
            " [ 3  4  7  8 10]]\n"
          ]
        }
      ],
      "source": [
        "B = np.array([[1,2],\n",
        "              [3,4]])\n",
        "C = np.array([[5,6],\n",
        "              [7,8]])\n",
        "d = np.array([9,10])\n",
        "\n",
        "print(np.concatenate((B,C), axis=1))  # concatenate arrays column-wise\n",
        "print(np.concatenate((B,C)))          # concatenate arrays row-wise (default axis=0)\n",
        "print(np.row_stack((B,d)))            # stack rows together, inc. 1D arrays\n",
        "print(np.column_stack((B,C,d)))       # stack columns together"
      ]
    },
    {
      "cell_type": "markdown",
      "metadata": {
        "id": "FnbPzABMmQac"
      },
      "source": [
        "Such concatenation can also be represented in math in the form of *block matrices*, assuming all the constituent matrices are defined and of the proper size. The examples above are represented by the matrices $\\begin{bmatrix} B & C \\end{bmatrix}$, $\\begin{bmatrix} B \\\\ C \\end{bmatrix}$, $\\begin{bmatrix} B & \\mathbf d \\end{bmatrix}$, and $\\begin{bmatrix} B & C & \\mathbf d \\end{bmatrix}$, respectively.\n",
        "\n",
        "The last useful manipulation function that we will mention here is *reshaping*. A $m \\times n$ array can be reshaped into a $p \\times q$ array as long as $mn=pq$. You can think of reshaping in NumPy as taking an array's entries, row by row, and then filling in the new array, also row by row. "
      ]
    },
    {
      "cell_type": "code",
      "execution_count": 7,
      "metadata": {
        "colab": {
          "base_uri": "https://localhost:8080/"
        },
        "id": "F3mzzveznkN-",
        "outputId": "dfef835f-ab8f-47da-bf0c-8f18ffeb976a"
      },
      "outputs": [
        {
          "name": "stdout",
          "output_type": "stream",
          "text": [
            "[[ 0 -2]\n",
            " [-3  4]\n",
            " [-5 -6]]\n",
            "[[1]\n",
            " [2]\n",
            " [3]\n",
            " [4]]\n",
            "[[5 6 7 8]]\n",
            "[[ 9 10]]\n"
          ]
        }
      ],
      "source": [
        "print(np.reshape(A, (3,2)))   # reshape A to be a 3x2 array\n",
        "print(np.reshape(B, (4,1)))   # reshape B to be a 4x1 array\n",
        "print(np.reshape(C, (1,4)))   # reshape C to be a 1x4 array\n",
        "print(np.reshape(d, (1,2)))   # reshape d to be a 1x2 array (we go from 1D to 2D!)"
      ]
    },
    {
      "cell_type": "markdown",
      "metadata": {
        "id": "59oLU4hwtnNe"
      },
      "source": [
        "## Special Matrices (NumPy)\n",
        "\n",
        "We sometimes refer to the *diagonal* entries of a matrix. These entries are the ones indexed by $A_{i,i}$. A square ($n \\times n$) matrix is **diagonal** if all of its non-diagonal (off-diagonal) entries are 0: $A_{i,j} = 0$. An **identity matrix** is a diagonal matrix in which all diagonal entries are 1: $A_{i,i} = 1$. Both are easily defined in NumPy, along with some related functionalities."
      ]
    },
    {
      "cell_type": "code",
      "execution_count": 8,
      "metadata": {
        "colab": {
          "base_uri": "https://localhost:8080/"
        },
        "id": "C_attkeQuOKo",
        "outputId": "44c92313-15d2-4c84-9457-87c000d14986"
      },
      "outputs": [
        {
          "name": "stdout",
          "output_type": "stream",
          "text": [
            "[[1 0 0]\n",
            " [0 2 0]\n",
            " [0 0 3]]\n",
            "[ 0 -5]\n",
            "[[1. 0. 0.]\n",
            " [0. 1. 0.]\n",
            " [0. 0. 1.]]\n",
            "[[1. 0. 0.]\n",
            " [0. 1. 0.]\n",
            " [0. 0. 1.]]\n",
            "[[1. 0. 0. 0.]\n",
            " [0. 1. 0. 0.]\n",
            " [0. 0. 1. 0.]]\n",
            "[[0. 1. 0. 0.]\n",
            " [0. 0. 1. 0.]\n",
            " [0. 0. 0. 1.]]\n"
          ]
        }
      ],
      "source": [
        "print(np.diag([1,2,3]))   # create a diagonal matrix \n",
        "print(np.diag(A))         # same function can be used to extract diagonal entries of a given matrix\n",
        "print(np.identity(3))     # create a 3x3 identity matrix\n",
        "print(np.eye(3))          # same as above\n",
        "print(np.eye(3,M=4))      # can also create rectangular \"identity matrices\"\n",
        "print(np.eye(3,M=4,k=1))  # or place the diagonal entries off the main"
      ]
    },
    {
      "cell_type": "markdown",
      "metadata": {
        "id": "gP64Wt5CKtEb"
      },
      "source": [
        "NumPy makes it easy to obtain matrices of all-zeros and matrices of all-ones."
      ]
    },
    {
      "cell_type": "code",
      "execution_count": 9,
      "metadata": {
        "colab": {
          "base_uri": "https://localhost:8080/"
        },
        "id": "zIRS7ccFX0G2",
        "outputId": "b2ac1444-8038-4300-8424-dcc381ad2a10"
      },
      "outputs": [
        {
          "name": "stdout",
          "output_type": "stream",
          "text": [
            "A 2x3 zeros matrix:\n",
            " [[0. 0. 0.]\n",
            " [0. 0. 0.]]\n",
            "A 4x2 ones matrix:\n",
            " [[1. 1.]\n",
            " [1. 1.]\n",
            " [1. 1.]\n",
            " [1. 1.]]\n"
          ]
        }
      ],
      "source": [
        "print(\"A 2x3 zeros matrix:\\n\", np.zeros([2,3]))\n",
        "print(\"A 4x2 ones matrix:\\n\", np.ones([4,2]))"
      ]
    },
    {
      "cell_type": "markdown",
      "metadata": {
        "id": "gP9JhFOzKy2f"
      },
      "source": [
        "## Matrix Operations\n",
        "\n",
        "Matrices have several different associated operations, some of which extend naturally from the vector versions."
      ]
    },
    {
      "cell_type": "markdown",
      "metadata": {
        "id": "FyU51UB8qBwy"
      },
      "source": [
        "### Transpose\n",
        "\n",
        "For vectors, the transpose operation transforms column vectors into row vectors and vice versa. The transpose of a matrix can be thought of as applying the vector transpose to each of the matrix's columns (or rows) individually. Column $i$ of $A$ becomes row $i$ of $A^\\top$; row $j$ of $A$ becomes column $j$ of $A^\\top$. In other words, $A^\\top_{i,j} = A_{j,i}$. If $A$ is $m \\times n$, $A^\\top$ is $n \\times m$. Note that $(A^\\top)^\\top = A$."
      ]
    },
    {
      "cell_type": "code",
      "execution_count": 10,
      "metadata": {
        "colab": {
          "base_uri": "https://localhost:8080/"
        },
        "id": "dK599oxrqj_J",
        "outputId": "f130786e-e577-417b-c03d-9808ace768c2"
      },
      "outputs": [
        {
          "name": "stdout",
          "output_type": "stream",
          "text": [
            "[[ 0 -2 -3]\n",
            " [ 4 -5 -6]]\n",
            "[[ 0  4]\n",
            " [-2 -5]\n",
            " [-3 -6]]\n"
          ]
        }
      ],
      "source": [
        "print(A)\n",
        "print(A.T)"
      ]
    },
    {
      "cell_type": "markdown",
      "metadata": {
        "id": "kQmTU8hB8E2-"
      },
      "source": [
        "A $n \\times n$ matrix $S$ that satisfies $S^\\top = S$, or equivalently $S_{i,j} = S_{j,i}$, is called a **symmetric matrix**."
      ]
    },
    {
      "cell_type": "markdown",
      "metadata": {
        "id": "_43IfDrOpuxb"
      },
      "source": [
        "### Scalar-matrix multiplication and matrix addition\n",
        "\n",
        "These two operations are nearly identical to those for vectors. Multiplying a matrix by a scalar means multiplying every individual element by that scalar. Adding two $m \\times n$ matrices means adding each corresponding element together. Similar properties (commutativity, etc.) also hold. Lastly, since these operations are implemented element-wise, they are compatible with the transpose operation as follows:\n",
        "\n",
        "* $(\\alpha A)^\\top = \\alpha A^\\top$\n",
        "* $(A+B)^\\top = A^\\top + B^\\top$\n",
        "\n",
        "Both operations are implemented easily in NumPy."
      ]
    },
    {
      "cell_type": "code",
      "execution_count": 11,
      "metadata": {
        "colab": {
          "base_uri": "https://localhost:8080/"
        },
        "id": "xeYHIgKcq4KI",
        "outputId": "cd142ea2-2eca-467f-bec7-5d96eaab6a8d"
      },
      "outputs": [
        {
          "name": "stdout",
          "output_type": "stream",
          "text": [
            "[[2 4]\n",
            " [6 8]]\n",
            "[[ 6  8]\n",
            " [10 12]]\n",
            "[[ 6  8]\n",
            " [10 12]]\n"
          ]
        }
      ],
      "source": [
        "print(2*B)\n",
        "print(B+C)\n",
        "print(np.add(B,C))  # same as above"
      ]
    },
    {
      "cell_type": "markdown",
      "metadata": {
        "id": "O6ZLP74tssTL"
      },
      "source": [
        "### Matrix-vector multiplication\n",
        "\n",
        "A $m \\times n$ matrix $A$ may be multiplied with a column $n$-vector $\\mathbf x$. The result is a column $m$-vector $\\mathbf y = A \\mathbf y$.\n",
        "\n",
        "In NumPy, `dot`, `matmul`, and `@` can be repurposed to matrix-vector multiplication. The matrix (2D array) must be the first argument and the vector (1D array) must be the second."
      ]
    },
    {
      "cell_type": "code",
      "execution_count": 12,
      "metadata": {
        "colab": {
          "base_uri": "https://localhost:8080/"
        },
        "id": "nRyE7uWQw96D",
        "outputId": "f680d25a-325a-4254-c695-c26f8635fe81"
      },
      "outputs": [
        {
          "name": "stdout",
          "output_type": "stream",
          "text": [
            "[ 50 122]\n",
            "[ 50 122]\n",
            "[ 50 122]\n"
          ]
        }
      ],
      "source": [
        "A = np.array([[1,2,3],\n",
        "              [4,5,6]])\n",
        "b = np.array([7,8,9])\n",
        "\n",
        "print(np.dot(A,b))\n",
        "print(np.matmul(A,b))\n",
        "print(A @ b)"
      ]
    },
    {
      "cell_type": "markdown",
      "metadata": {
        "id": "QfeWP3t1yZgi"
      },
      "source": [
        "### Matrix-matrix multiplication\n",
        "\n",
        "Matrix-matrix multiplication is really a generalization of matrix-vector multiplication. The product of two matrices, an $m \\times n$ matrix $A$ and an $n \\times p$ matrix $B$ is an $m \\times p$ matrix $C = AB$."
      ]
    },
    {
      "cell_type": "code",
      "execution_count": 13,
      "metadata": {
        "colab": {
          "base_uri": "https://localhost:8080/"
        },
        "id": "_lDhKYrS3j0U",
        "outputId": "e79c421d-514c-489e-ae77-b85d4b7d8944"
      },
      "outputs": [
        {
          "name": "stdout",
          "output_type": "stream",
          "text": [
            "[[-10  12]\n",
            " [-19  24]]\n",
            "[[-10  12]\n",
            " [-19  24]]\n",
            "[[-10  12]\n",
            " [-19  24]]\n"
          ]
        }
      ],
      "source": [
        "C = np.array([[-1,2],\n",
        "              [3,-4],\n",
        "              [-5,6]])\n",
        "\n",
        "print(np.dot(A,C))\n",
        "print(np.matmul(A,C))\n",
        "print(A@C)"
      ]
    },
    {
      "cell_type": "code",
      "execution_count": 17,
      "metadata": {},
      "outputs": [
        {
          "name": "stdout",
          "output_type": "stream",
          "text": [
            "[[ 2  0]\n",
            " [ 0 -2]]\n",
            "[[10 24 -2]\n",
            " [ 4 60 22]\n",
            " [ 5 45 14]]\n",
            "[[  2 -10]\n",
            " [ 10   0]\n",
            " [  7  -2]]\n",
            "[[ 1 -2]\n",
            " [ 1  0]\n",
            " [ 1  1]]\n",
            "[[ 2 10]\n",
            " [10  0]\n",
            " [ 7  2]]\n"
          ]
        }
      ],
      "source": [
        "# PS2 Problem 2.1\n",
        "\n",
        "A=np.array([[-3,1,4],\n",
        "            [1,7,2],\n",
        "            [0,5,2]])\n",
        "B=np.array([[1,2],\n",
        "            [1,0],\n",
        "            [1,-1]])\n",
        "C=np.array([[1,0],\n",
        "            [0,-1]])\n",
        "\n",
        "print(2*C)\n",
        "print(A@A)\n",
        "print(A@B)\n",
        "print(B@C)\n",
        "print(A@B@C)\n",
        "# Invalid\n",
        "# print(C@A)\n",
        "# print(C@B@A)"
      ]
    },
    {
      "cell_type": "markdown",
      "metadata": {
        "id": "TERLJ3nLz7Ag"
      },
      "source": [
        "The following are properties of matrix-matrix (and matrix-vector) multiplication:\n",
        "\n",
        "* Associativity: $(AB)C = A(BC)$\n",
        "* Identity: $AI = IA = A$\n",
        "* Distributivity over addition: $A(B+C) = AB + AC$, $(A+B)C = AC + BC$\n",
        "* Transpose: $(AB)^\\top = B^\\top A^\\top$\n",
        "\n",
        "The last property may be counterintuitive; the transpose of a product is the reverse product of the transposes. In addition, notice that commutativity is not present. Matrix multiplication is *not* commutative in general: $AB \\neq BA$. In fact, if either $A$ or $B$ is not square, one of the two products is generally not even defined."
      ]
    }
  ],
  "metadata": {
    "colab": {
      "collapsed_sections": [],
      "provenance": []
    },
    "kernelspec": {
      "display_name": "Python 3.9.7 ('base')",
      "language": "python",
      "name": "python3"
    },
    "language_info": {
      "codemirror_mode": {
        "name": "ipython",
        "version": 3
      },
      "file_extension": ".py",
      "mimetype": "text/x-python",
      "name": "python",
      "nbconvert_exporter": "python",
      "pygments_lexer": "ipython3",
      "version": "3.9.7"
    },
    "vscode": {
      "interpreter": {
        "hash": "2cee90cb42f7178e5dd22b7456409da18ea1759979d58fe6e9e7c588d39f7288"
      }
    }
  },
  "nbformat": 4,
  "nbformat_minor": 0
}
