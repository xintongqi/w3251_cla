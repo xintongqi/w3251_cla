{
  "cells": [
    {
      "cell_type": "code",
      "execution_count": null,
      "id": "2ced8509",
      "metadata": {
        "colab": {
          "base_uri": "https://localhost:8080/"
        },
        "id": "2ced8509",
        "outputId": "d8bac61c-f0da-437e-9b86-08c3e7437778"
      },
      "outputs": [
        {
          "output_type": "stream",
          "name": "stdout",
          "text": [
            "  % Total    % Received % Xferd  Average Speed   Time    Time     Time  Current\n",
            "                                 Dload  Upload   Total   Spent    Left  Speed\n",
            "100  2448  100  2448    0     0   3777      0 --:--:-- --:--:-- --:--:--  3777\n"
          ]
        }
      ],
      "source": [
        "!curl -o faithful.csv https://www.cs.columbia.edu/~djhsu/coms3251-f22/data/faithful.csv"
      ]
    },
    {
      "cell_type": "code",
      "execution_count": null,
      "id": "e725cca1",
      "metadata": {
        "id": "e725cca1"
      },
      "outputs": [],
      "source": [
        "# loads the data from the CSV file\n",
        "import csv\n",
        "import numpy as np\n",
        "with open('faithful.csv') as f:\n",
        "    reader = csv.reader(f)\n",
        "    data = np.array([[float(x) for x in row] for row in reader])"
      ]
    },
    {
      "cell_type": "code",
      "execution_count": null,
      "id": "8f8bb9b1",
      "metadata": {
        "id": "8f8bb9b1"
      },
      "outputs": [],
      "source": [
        "print(data)"
      ]
    },
    {
      "cell_type": "code",
      "execution_count": null,
      "id": "7d00eaa7",
      "metadata": {
        "colab": {
          "base_uri": "https://localhost:8080/",
          "height": 279
        },
        "id": "7d00eaa7",
        "outputId": "8b1e7171-cb4b-4ea9-fafd-9fddff8bf79b"
      },
      "outputs": [
        {
          "output_type": "display_data",
          "data": {
            "text/plain": [
              "<Figure size 432x288 with 1 Axes>"
            ],
            "image/png": "[encoded data removed]"
          },
          "metadata": {
            "needs_background": "light"
          }
        }
      ],
      "source": [
        "# Plot the data\n",
        "import matplotlib.pyplot as plt\n",
        "plt.plot(data[:,0], data[:,1], 'b.')\n",
        "plt.xlabel('duration of preceding eruption')\n",
        "plt.ylabel('time until next eruption')\n",
        "plt.show()"
      ]
    },
    {
      "cell_type": "code",
      "execution_count": null,
      "id": "fe75958a",
      "metadata": {
        "colab": {
          "base_uri": "https://localhost:8080/"
        },
        "id": "fe75958a",
        "outputId": "365876a0-9d4f-4fc9-8b7c-ac0118c73cce"
      },
      "outputs": [
        {
          "output_type": "execute_result",
          "data": {
            "text/plain": [
              "(33.47439702275337, 10.729641395133527)"
            ]
          },
          "metadata": {},
          "execution_count": 6
        }
      ],
      "source": [
        "# Create the matrix A and vector b, and then find the least squares solution to Ax=b\n",
        "# print(data.shape)\n",
        "\n",
        "A = np.ones([data.shape[0], 2])\n",
        "b = np.array([])\n",
        "\n",
        "i=0\n",
        "for row in data:\n",
        "  A[i][1] = row[0]\n",
        "  b = np.append(b, row[1])\n",
        "  i+=1\n",
        "\n",
        "b = b.T\n",
        "# print(A.shape)\n",
        "# print(b.shape)\n",
        "m, c = np.linalg.lstsq(A, b, rcond=None)[0]\n",
        "m,c\n",
        "\n",
        "# DO THIS YOURSELF. USE ANY NUMPY LIBRARY FUNCTIONS YOU LIKE. LIKE numpy.linalg.solve or numpy.linalg.lstsq\n",
        "# https://numpy.org/doc/stable/reference/generated/numpy.linalg.solve.html\n",
        "# https://numpy.org/doc/stable/reference/generated/numpy.linalg.lstsq.html"
      ]
    },
    {
      "cell_type": "code",
      "execution_count": null,
      "id": "ecdd61f0",
      "metadata": {
        "colab": {
          "base_uri": "https://localhost:8080/"
        },
        "id": "ecdd61f0",
        "outputId": "433e573e-4b8e-46b6-8740-57ea3798d18b"
      },
      "outputs": [
        {
          "output_type": "stream",
          "name": "stdout",
          "text": [
            "The intercept is 33.47439702275337 and the slope is 10.729641395133527.\n"
          ]
        }
      ],
      "source": [
        "# Set the intercept and slope of the affine function\n",
        "intercept = m # CHANGE THIS\n",
        "slope = c      # CHANGE THIS\n",
        "print('The intercept is {0} and the slope is {1}.'.format(intercept, slope))"
      ]
    },
    {
      "cell_type": "code",
      "execution_count": null,
      "id": "a7a478a1",
      "metadata": {
        "colab": {
          "base_uri": "https://localhost:8080/",
          "height": 279
        },
        "id": "a7a478a1",
        "outputId": "4b3bfdcb-1fec-4ce7-c70e-65cc3b24644a"
      },
      "outputs": [
        {
          "output_type": "display_data",
          "data": {
            "text/plain": [
              "<Figure size 432x288 with 1 Axes>"
            ],
            "image/png": "[encoded data removed]"
          },
          "metadata": {
            "needs_background": "light"
          }
        }
      ],
      "source": [
        "# Now plot the data together with the affine function\n",
        "import matplotlib.pyplot as plt\n",
        "plt.plot(data[:,0], data[:,1], 'b.')\n",
        "plt.plot(np.array([1.5,5]), intercept + slope * np.array([1.5,5]),'r-')\n",
        "plt.xlabel('duration of preceding eruption')\n",
        "plt.ylabel('time until next eruption')\n",
        "plt.show()"
      ]
    }
  ],
  "metadata": {
    "kernelspec": {
      "display_name": "Python 3 (ipykernel)",
      "language": "python",
      "name": "python3"
    },
    "language_info": {
      "codemirror_mode": {
        "name": "ipython",
        "version": 3
      },
      "file_extension": ".py",
      "mimetype": "text/x-python",
      "name": "python",
      "nbconvert_exporter": "python",
      "pygments_lexer": "ipython3",
      "version": "3.10.6"
    },
    "colab": {
      "provenance": []
    }
  },
  "nbformat": 4,
  "nbformat_minor": 5
}